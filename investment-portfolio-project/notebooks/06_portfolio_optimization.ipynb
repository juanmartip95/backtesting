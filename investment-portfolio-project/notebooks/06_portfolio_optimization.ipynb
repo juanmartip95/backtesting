{
 "cells": [
  {
   "cell_type": "code",
   "execution_count": 16,
   "id": "e5d9f734",
   "metadata": {},
   "outputs": [],
   "source": [
    "import pandas as pd\n",
    "import numpy as np\n",
    "import matplotlib.pyplot as plt\n",
    "import seaborn as sns\n",
    "from alpha_vantage.timeseries import TimeSeries\n",
    "from sklearn.ensemble import RandomForestClassifier\n",
    "from sklearn.model_selection import train_test_split, StratifiedKFold, cross_val_predict # Added StratifiedKFold, cross_val_predict\n",
    "from sklearn.metrics import roc_auc_score, make_scorer, classification_report # Added make_scorer, classification_report\n",
    "from sklearn.svm import SVC # New import\n",
    "from xgboost import XGBClassifier # New import\n",
    "from sklearn.preprocessing import StandardScaler, LabelEncoder # New import\n",
    "from sklearn.linear_model import LogisticRegression # New import for meta-learner\n",
    "from ta.momentum import RSIIndicator\n",
    "from ta.trend import MACD\n",
    "from dotenv import load_dotenv\n",
    "import os\n",
    "\n",
    "load_dotenv()\n",
    "API_KEY = os.getenv(\"ALPHA_VANTAGE_API_KEY\")\n",
    "\n",
    "\n",
    "# --- Performance Metrics Functions ---\n",
    "\n",
    "def annualized_returns(returns):\n",
    "    \"\"\"\n",
    "    Calculate the annualized returns from daily returns.\n",
    "    Assumes 252 trading days in a year.\n",
    "    \"\"\"\n",
    "    return (1 + returns).prod()**(252/len(returns)) - 1\n",
    "\n",
    "def sharpe_ratio(returns, risk_free_rate=0.0):\n",
    "    \"\"\"\n",
    "    Calculate the annualized Sharpe Ratio.\n",
    "    Assumes 252 trading days in a year.\n",
    "    \"\"\"\n",
    "    excess_returns = returns - risk_free_rate / 252\n",
    "    return np.sqrt(252) * excess_returns.mean() / excess_returns.std()\n",
    "\n",
    "def max_drawdown(cumulative_returns):\n",
    "    \"\"\"\n",
    "    Calculate the maximum drawdown from a series of cumulative returns.\n",
    "    \"\"\"\n",
    "    if cumulative_returns.empty:\n",
    "        return 0.0\n",
    "    peak = cumulative_returns.expanding(min_periods=1).max()\n",
    "    drawdown = (cumulative_returns - peak) / peak\n",
    "    return drawdown.min()\n",
    "# Define target labels for multi-class classification (consistent with 04_signal_prediction)\n",
    "LABELS = [-1, 0, 1]\n",
    "\n",
    "# Create a custom multi-class ROC AUC scorer for GridSearchCV (if used later)\n",
    "multi_class_roc_auc_scorer = make_scorer(roc_auc_score, needs_proba=True, multi_class='ovr', labels=LABELS)"
   ]
  },
  {
   "cell_type": "code",
   "execution_count": 17,
   "id": "1cbd3767",
   "metadata": {},
   "outputs": [],
   "source": [
    "def fetch_data(symbol, api_key=API_KEY):\n",
    "    ts = TimeSeries(key=api_key, output_format='pandas')\n",
    "    data, _ = ts.get_daily(symbol=symbol, outputsize='full')\n",
    "    data = data.sort_index()\n",
    "    data = data.rename(columns={\n",
    "        '1. open': 'open',\n",
    "        '2. high': 'high',\n",
    "        '3. low': 'low',\n",
    "        '4. close': 'close',\n",
    "        '5. volume': 'volume'\n",
    "    })\n",
    "    return data\n"
   ]
  },
  {
   "cell_type": "code",
   "execution_count": 18,
   "id": "477a5f1d",
   "metadata": {},
   "outputs": [],
   "source": [
    "# Apply indicators per ticker\n",
    "def add_features(df):\n",
    "    df['return'] = df['close'].pct_change()\n",
    "    df['rsi'] = RSIIndicator(df['close'], window=14).rsi()\n",
    "    macd = MACD(df['close'])\n",
    "    df['macd'] = macd.macd()\n",
    "    df['macd_signal'] = macd.macd_signal()\n",
    "\n",
    "    # Multi-class target definition (consistent with 04_signal_prediction)\n",
    "    BUY_THRESHOLD = 0.001\n",
    "    SELL_THRESHOLD = -0.001\n",
    "    df['target'] = 0\n",
    "    df.loc[df['return'].shift(-1) > BUY_THRESHOLD, 'target'] = 1\n",
    "    df.loc[df['return'].shift(-1) < SELL_THRESHOLD, 'target'] = -1\n",
    "\n",
    "    df.dropna(inplace=True)\n",
    "    return df"
   ]
  },
  {
   "cell_type": "code",
   "execution_count": 19,
   "id": "e4d4aeb6",
   "metadata": {},
   "outputs": [],
   "source": [
    "# Train RandomForest, XGBoost, SVM models, and then a Stacking ensemble\n",
    "# This function will return the strategy series for each model type\n",
    "def train_evaluate_all_models(df): # Renamed function for clarity\n",
    "    features = ['rsi', 'macd', 'macd_signal']\n",
    "    X = df[features]\n",
    "    y = df['target']\n",
    "\n",
    "    # Encode target labels for XGBoost (if targets are -1, 0, 1)\n",
    "    le = LabelEncoder()\n",
    "    # Fit transform on the entire y to ensure consistent mapping for train/test\n",
    "    y_encoded_full = le.fit_transform(y)\n",
    "\n",
    "    # Split data into training and testing sets (shuffle=False for time series)\n",
    "    X_train, X_test, y_train, y_test = train_test_split(X, y, shuffle=False, test_size=0.2)\n",
    "    y_train_encoded = le.transform(y_train)\n",
    "    y_test_encoded = le.transform(y_test) # Though not used directly for y_test_encoded, good practice\n",
    "\n",
    "    # Scale data for SVM\n",
    "    scaler = StandardScaler()\n",
    "    X_train_scaled = scaler.fit_transform(X_train)\n",
    "    X_test_scaled = scaler.transform(X_test)\n",
    "    X_train_scaled_df = pd.DataFrame(X_train_scaled, index=X_train.index, columns=X_train.columns)\n",
    "    X_test_scaled_df = pd.DataFrame(X_test_scaled, index=X_test.index, columns=X_test.columns)\n",
    "\n",
    "    # --- Base Models ---\n",
    "    # RandomForest\n",
    "    rf_model = RandomForestClassifier(n_estimators=100, random_state=42, class_weight='balanced')\n",
    "    rf_model.fit(X_train, y_train)\n",
    "    y_pred_rf = rf_model.predict(X_test)\n",
    "    y_proba_rf = rf_model.predict_proba(X_test)\n",
    "    strategy_rf_series = pd.Series(np.where(y_pred_rf == 1, df.loc[X_test.index, 'return'],\n",
    "                                            np.where(y_pred_rf == -1, -df.loc[X_test.index, 'return'], 0)),\n",
    "                                  index=X_test.index)\n",
    "\n",
    "    # XGBoost\n",
    "    # For multi-class classification, use objective='multi:softproba' to get probabilities directly\n",
    "    xgb_model = XGBClassifier(objective='multi:softproba', num_class=len(LABELS),\n",
    "                              use_label_encoder=False, eval_metric='mlogloss', random_state=42)\n",
    "    xgb_model.fit(X_train, y_train_encoded)\n",
    "    y_pred_xgb_encoded = xgb_model.predict(X_test)\n",
    "    y_pred_xgb = le.inverse_transform(y_pred_xgb_encoded)\n",
    "    y_proba_xgb = xgb_model.predict_proba(X_test)\n",
    "    strategy_xgb_series = pd.Series(np.where(y_pred_xgb == 1, df.loc[X_test.index, 'return'],\n",
    "                                             np.where(y_pred_xgb == -1, -df.loc[X_test.index, 'return'], 0)),\n",
    "                                   index=X_test.index)\n",
    "\n",
    "    # SVM\n",
    "    svm_model = SVC(probability=True, random_state=42, class_weight='balanced')\n",
    "    svm_model.fit(X_train_scaled_df, y_train)\n",
    "    y_pred_svm = svm_model.predict(X_test_scaled_df)\n",
    "    y_proba_svm = svm_model.predict_proba(X_test_scaled_df)\n",
    "    strategy_svm_series = pd.Series(np.where(y_pred_svm == 1, df.loc[X_test.index, 'return'],\n",
    "                                             np.where(y_pred_svm == -1, -df.loc[X_test.index, 'return'], 0)),\n",
    "                                   index=X_test.index)\n",
    "\n",
    "    # --- Stacking Ensemble ---\n",
    "    # Generate Out-Of-Fold (OOF) predictions for meta-learner training\n",
    "    kf = StratifiedKFold(n_splits=5, shuffle=False) # Use shuffle=False for time series data\n",
    "\n",
    "    rf_oof_proba = cross_val_predict(rf_model, X_train, y_train, cv=kf, method='predict_proba', n_jobs=-1)\n",
    "    xgb_oof_proba = cross_val_predict(xgb_model, X_train, y_train_encoded, cv=kf, method='predict_proba', n_jobs=-1)\n",
    "    svm_oof_proba = cross_val_predict(svm_model, X_train_scaled_df, y_train, cv=kf, method='predict_proba', n_jobs=-1)\n",
    "\n",
    "    X_meta_train = np.hstack((rf_oof_proba, xgb_oof_proba, svm_oof_proba))\n",
    "    y_meta_train = y_train\n",
    "\n",
    "    meta_learner = LogisticRegression(solver='lbfgs', multi_class='ovr', random_state=42, class_weight='balanced', max_iter=1000)\n",
    "    meta_learner.fit(X_meta_train, y_meta_train)\n",
    "\n",
    "    X_meta_test = np.hstack((y_proba_rf, y_proba_xgb, y_proba_svm))\n",
    "    y_pred_stack = meta_learner.predict(X_meta_test)\n",
    "\n",
    "    strategy_stack_series = pd.Series(np.where(y_pred_stack == 1, df.loc[X_test.index, 'return'],\n",
    "                                               np.where(y_pred_stack == -1, -df.loc[X_test.index, 'return'], 0)),\n",
    "                                      index=X_test.index)\n",
    "\n",
    "    # Return all individual strategy series for later portfolio optimization\n",
    "    return strategy_rf_series, strategy_xgb_series, strategy_svm_series, strategy_stack_series"
   ]
  },
  {
   "cell_type": "code",
   "execution_count": 20,
   "id": "de3c2119",
   "metadata": {},
   "outputs": [],
   "source": [
    "# Suppose we already have strategy_returns = { 'AAPL': series1, 'MSFT': series2, ... }\n",
    "\n",
    "from scipy.optimize import minimize\n",
    "\n",
    "def optimize_portfolio(returns_dict):\n",
    "    returns_df = pd.DataFrame(returns_dict)\n",
    "    weights = np.ones(len(returns_df.columns)) / len(returns_df.columns)\n",
    "\n",
    "    def neg_sharpe(w):\n",
    "        port_return = (returns_df * w).sum(axis=1)\n",
    "        return -np.sqrt(252) * port_return.mean() / port_return.std()\n",
    "\n",
    "    constraints = ({'type': 'eq', 'fun': lambda w: np.sum(w) - 1})\n",
    "    bounds = [(0, 1)] * len(weights)\n",
    "\n",
    "    result = minimize(neg_sharpe, weights, bounds=bounds, constraints=constraints)\n",
    "    return result.x, -result.fun\n"
   ]
  },
  {
   "cell_type": "code",
   "execution_count": 21,
   "id": "4bc449ea",
   "metadata": {},
   "outputs": [
    {
     "name": "stdout",
     "output_type": "stream",
     "text": [
      "🔢 Example Tickers:\n",
      "1. AAPL\n",
      "2. MSFT\n",
      "3. GOOG\n",
      "4. AMZN\n",
      "5. META\n",
      "6. TSLA\n",
      "7. NFLX\n",
      "8. NVDA\n",
      "9. JPM\n",
      "10. BA\n",
      "\n",
      "✅ You selected: ['AAPL', 'GOOG', 'AMZN', 'META', 'TSLA']\n"
     ]
    }
   ],
   "source": [
    "example_tickers = ['AAPL', 'MSFT', 'GOOG', 'AMZN', 'META', 'TSLA', 'NFLX', 'NVDA', 'JPM', 'BA']\n",
    "\n",
    "print(\"🔢 Example Tickers:\")\n",
    "for i, ticker in enumerate(example_tickers):\n",
    "    print(f\"{i+1}. {ticker}\")\n",
    "\n",
    "chosen_indices = input(\"Please choose 5 ticker indices (comma-separated, e.g. 1,3,5,7,9): \")\n",
    "chosen_tickers = [example_tickers[int(i)-1] for i in chosen_indices.split(',')]\n",
    "\n",
    "print(f\"\\n✅ You selected: {chosen_tickers}\")\n"
   ]
  },
  {
   "cell_type": "code",
   "execution_count": 22,
   "id": "f931a713",
   "metadata": {},
   "outputs": [
    {
     "name": "stdout",
     "output_type": "stream",
     "text": [
      "💾 Selected tickers saved to /workspaces/backtesting/investment-portfolio-project/data/selected_tickers.json\n"
     ]
    }
   ],
   "source": [
    "import json\n",
    "\n",
    "\n",
    "\n",
    "# ✅ Save to file for reuse\n",
    "ticker_save_path = \"/workspaces/backtesting/investment-portfolio-project/data/selected_tickers.json\"\n",
    "with open(ticker_save_path, 'w') as f:\n",
    "    json.dump(chosen_tickers, f)\n",
    "\n",
    "print(f\"💾 Selected tickers saved to {ticker_save_path}\")\n"
   ]
  },
  {
   "cell_type": "code",
   "execution_count": 23,
   "id": "f2f232a6",
   "metadata": {},
   "outputs": [
    {
     "name": "stdout",
     "output_type": "stream",
     "text": [
      "📂 Using previously saved tickers: ['AAPL', 'GOOG', 'AMZN', 'META', 'TSLA']\n"
     ]
    }
   ],
   "source": [
    "# Load saved tickers\n",
    "with open(\"/workspaces/backtesting/investment-portfolio-project/data/selected_tickers.json\", 'r') as f:\n",
    "    chosen_tickers = json.load(f)\n",
    "\n",
    "print(\"📂 Using previously saved tickers:\", chosen_tickers)\n"
   ]
  },
  {
   "cell_type": "code",
   "execution_count": 24,
   "id": "97808d39",
   "metadata": {},
   "outputs": [
    {
     "name": "stdout",
     "output_type": "stream",
     "text": [
      "\n",
      "📥 Processing AAPL...\n"
     ]
    },
    {
     "name": "stderr",
     "output_type": "stream",
     "text": [
      "/workspaces/backtesting/my_env/lib/python3.12/site-packages/xgboost/training.py:183: UserWarning: [08:04:38] WARNING: /workspace/src/learner.cc:738: \n",
      "Parameters: { \"use_label_encoder\" } are not used.\n",
      "\n",
      "  bst.update(dtrain, iteration=i, fobj=obj)\n",
      "/workspaces/backtesting/my_env/lib/python3.12/site-packages/xgboost/training.py:183: UserWarning: [08:04:48] WARNING: /workspace/src/learner.cc:738: \n",
      "Parameters: { \"use_label_encoder\" } are not used.\n",
      "\n",
      "  bst.update(dtrain, iteration=i, fobj=obj)\n",
      "/workspaces/backtesting/my_env/lib/python3.12/site-packages/xgboost/training.py:183: UserWarning: [08:04:48] WARNING: /workspace/src/learner.cc:738: \n",
      "Parameters: { \"use_label_encoder\" } are not used.\n",
      "\n",
      "  bst.update(dtrain, iteration=i, fobj=obj)\n",
      "/workspaces/backtesting/my_env/lib/python3.12/site-packages/xgboost/training.py:183: UserWarning: [08:04:49] WARNING: /workspace/src/learner.cc:738: \n",
      "Parameters: { \"use_label_encoder\" } are not used.\n",
      "\n",
      "  bst.update(dtrain, iteration=i, fobj=obj)\n",
      "/workspaces/backtesting/my_env/lib/python3.12/site-packages/xgboost/training.py:183: UserWarning: [08:04:49] WARNING: /workspace/src/learner.cc:738: \n",
      "Parameters: { \"use_label_encoder\" } are not used.\n",
      "\n",
      "  bst.update(dtrain, iteration=i, fobj=obj)\n",
      "/workspaces/backtesting/my_env/lib/python3.12/site-packages/xgboost/training.py:183: UserWarning: [08:04:49] WARNING: /workspace/src/learner.cc:738: \n",
      "Parameters: { \"use_label_encoder\" } are not used.\n",
      "\n",
      "  bst.update(dtrain, iteration=i, fobj=obj)\n",
      "/workspaces/backtesting/my_env/lib/python3.12/site-packages/sklearn/linear_model/_logistic.py:1273: FutureWarning: 'multi_class' was deprecated in version 1.5 and will be removed in 1.7. Use OneVsRestClassifier(LogisticRegression(..)) instead. Leave it to its default value to avoid this warning.\n",
      "  warnings.warn(\n"
     ]
    },
    {
     "name": "stdout",
     "output_type": "stream",
     "text": [
      "📊 AAPL - Stacked Model Sharpe: 0.73, Cumulative Return: 170.54%\n",
      "\n",
      "📥 Processing GOOG...\n"
     ]
    },
    {
     "name": "stderr",
     "output_type": "stream",
     "text": [
      "/workspaces/backtesting/my_env/lib/python3.12/site-packages/xgboost/training.py:183: UserWarning: [08:05:06] WARNING: /workspace/src/learner.cc:738: \n",
      "Parameters: { \"use_label_encoder\" } are not used.\n",
      "\n",
      "  bst.update(dtrain, iteration=i, fobj=obj)\n",
      "/workspaces/backtesting/my_env/lib/python3.12/site-packages/xgboost/training.py:183: UserWarning: [08:05:09] WARNING: /workspace/src/learner.cc:738: \n",
      "Parameters: { \"use_label_encoder\" } are not used.\n",
      "\n",
      "  bst.update(dtrain, iteration=i, fobj=obj)\n",
      "/workspaces/backtesting/my_env/lib/python3.12/site-packages/xgboost/training.py:183: UserWarning: [08:05:09] WARNING: /workspace/src/learner.cc:738: \n",
      "Parameters: { \"use_label_encoder\" } are not used.\n",
      "\n",
      "  bst.update(dtrain, iteration=i, fobj=obj)\n",
      "/workspaces/backtesting/my_env/lib/python3.12/site-packages/xgboost/training.py:183: UserWarning: [08:05:09] WARNING: /workspace/src/learner.cc:738: \n",
      "Parameters: { \"use_label_encoder\" } are not used.\n",
      "\n",
      "  bst.update(dtrain, iteration=i, fobj=obj)\n",
      "/workspaces/backtesting/my_env/lib/python3.12/site-packages/xgboost/training.py:183: UserWarning: [08:05:09] WARNING: /workspace/src/learner.cc:738: \n",
      "Parameters: { \"use_label_encoder\" } are not used.\n",
      "\n",
      "  bst.update(dtrain, iteration=i, fobj=obj)\n",
      "/workspaces/backtesting/my_env/lib/python3.12/site-packages/xgboost/training.py:183: UserWarning: [08:05:09] WARNING: /workspace/src/learner.cc:738: \n",
      "Parameters: { \"use_label_encoder\" } are not used.\n",
      "\n",
      "  bst.update(dtrain, iteration=i, fobj=obj)\n",
      "/workspaces/backtesting/my_env/lib/python3.12/site-packages/sklearn/linear_model/_logistic.py:1273: FutureWarning: 'multi_class' was deprecated in version 1.5 and will be removed in 1.7. Use OneVsRestClassifier(LogisticRegression(..)) instead. Leave it to its default value to avoid this warning.\n",
      "  warnings.warn(\n"
     ]
    },
    {
     "name": "stdout",
     "output_type": "stream",
     "text": [
      "📊 GOOG - Stacked Model Sharpe: -0.20, Cumulative Return: 84.02%\n",
      "\n",
      "📥 Processing AMZN...\n"
     ]
    },
    {
     "name": "stderr",
     "output_type": "stream",
     "text": [
      "/workspaces/backtesting/my_env/lib/python3.12/site-packages/xgboost/training.py:183: UserWarning: [08:05:14] WARNING: /workspace/src/learner.cc:738: \n",
      "Parameters: { \"use_label_encoder\" } are not used.\n",
      "\n",
      "  bst.update(dtrain, iteration=i, fobj=obj)\n",
      "/workspaces/backtesting/my_env/lib/python3.12/site-packages/xgboost/training.py:183: UserWarning: [08:05:22] WARNING: /workspace/src/learner.cc:738: \n",
      "Parameters: { \"use_label_encoder\" } are not used.\n",
      "\n",
      "  bst.update(dtrain, iteration=i, fobj=obj)\n",
      "/workspaces/backtesting/my_env/lib/python3.12/site-packages/xgboost/training.py:183: UserWarning: [08:05:22] WARNING: /workspace/src/learner.cc:738: \n",
      "Parameters: { \"use_label_encoder\" } are not used.\n",
      "\n",
      "  bst.update(dtrain, iteration=i, fobj=obj)\n",
      "/workspaces/backtesting/my_env/lib/python3.12/site-packages/xgboost/training.py:183: UserWarning: [08:05:22] WARNING: /workspace/src/learner.cc:738: \n",
      "Parameters: { \"use_label_encoder\" } are not used.\n",
      "\n",
      "  bst.update(dtrain, iteration=i, fobj=obj)\n",
      "/workspaces/backtesting/my_env/lib/python3.12/site-packages/xgboost/training.py:183: UserWarning: [08:05:22] WARNING: /workspace/src/learner.cc:738: \n",
      "Parameters: { \"use_label_encoder\" } are not used.\n",
      "\n",
      "  bst.update(dtrain, iteration=i, fobj=obj)\n",
      "/workspaces/backtesting/my_env/lib/python3.12/site-packages/xgboost/training.py:183: UserWarning: [08:05:23] WARNING: /workspace/src/learner.cc:738: \n",
      "Parameters: { \"use_label_encoder\" } are not used.\n",
      "\n",
      "  bst.update(dtrain, iteration=i, fobj=obj)\n",
      "/workspaces/backtesting/my_env/lib/python3.12/site-packages/sklearn/linear_model/_logistic.py:1273: FutureWarning: 'multi_class' was deprecated in version 1.5 and will be removed in 1.7. Use OneVsRestClassifier(LogisticRegression(..)) instead. Leave it to its default value to avoid this warning.\n",
      "  warnings.warn(\n"
     ]
    },
    {
     "name": "stdout",
     "output_type": "stream",
     "text": [
      "📊 AMZN - Stacked Model Sharpe: -1.02, Cumulative Return: 0.72%\n",
      "\n",
      "📥 Processing META...\n"
     ]
    },
    {
     "name": "stderr",
     "output_type": "stream",
     "text": [
      "/workspaces/backtesting/my_env/lib/python3.12/site-packages/xgboost/training.py:183: UserWarning: [08:05:40] WARNING: /workspace/src/learner.cc:738: \n",
      "Parameters: { \"use_label_encoder\" } are not used.\n",
      "\n",
      "  bst.update(dtrain, iteration=i, fobj=obj)\n",
      "/workspaces/backtesting/my_env/lib/python3.12/site-packages/xgboost/training.py:183: UserWarning: [08:05:43] WARNING: /workspace/src/learner.cc:738: \n",
      "Parameters: { \"use_label_encoder\" } are not used.\n",
      "\n",
      "  bst.update(dtrain, iteration=i, fobj=obj)\n",
      "/workspaces/backtesting/my_env/lib/python3.12/site-packages/xgboost/training.py:183: UserWarning: [08:05:43] WARNING: /workspace/src/learner.cc:738: \n",
      "Parameters: { \"use_label_encoder\" } are not used.\n",
      "\n",
      "  bst.update(dtrain, iteration=i, fobj=obj)\n",
      "/workspaces/backtesting/my_env/lib/python3.12/site-packages/xgboost/training.py:183: UserWarning: [08:05:43] WARNING: /workspace/src/learner.cc:738: \n",
      "Parameters: { \"use_label_encoder\" } are not used.\n",
      "\n",
      "  bst.update(dtrain, iteration=i, fobj=obj)\n",
      "/workspaces/backtesting/my_env/lib/python3.12/site-packages/xgboost/training.py:183: UserWarning: [08:05:43] WARNING: /workspace/src/learner.cc:738: \n",
      "Parameters: { \"use_label_encoder\" } are not used.\n",
      "\n",
      "  bst.update(dtrain, iteration=i, fobj=obj)\n",
      "/workspaces/backtesting/my_env/lib/python3.12/site-packages/xgboost/training.py:183: UserWarning: [08:05:43] WARNING: /workspace/src/learner.cc:738: \n",
      "Parameters: { \"use_label_encoder\" } are not used.\n",
      "\n",
      "  bst.update(dtrain, iteration=i, fobj=obj)\n",
      "/workspaces/backtesting/my_env/lib/python3.12/site-packages/sklearn/linear_model/_logistic.py:1273: FutureWarning: 'multi_class' was deprecated in version 1.5 and will be removed in 1.7. Use OneVsRestClassifier(LogisticRegression(..)) instead. Leave it to its default value to avoid this warning.\n",
      "  warnings.warn(\n"
     ]
    },
    {
     "name": "stdout",
     "output_type": "stream",
     "text": [
      "📊 META - Stacked Model Sharpe: 0.80, Cumulative Return: 179.57%\n",
      "\n",
      "📥 Processing TSLA...\n"
     ]
    },
    {
     "name": "stderr",
     "output_type": "stream",
     "text": [
      "/workspaces/backtesting/my_env/lib/python3.12/site-packages/xgboost/training.py:183: UserWarning: [08:05:49] WARNING: /workspace/src/learner.cc:738: \n",
      "Parameters: { \"use_label_encoder\" } are not used.\n",
      "\n",
      "  bst.update(dtrain, iteration=i, fobj=obj)\n",
      "/workspaces/backtesting/my_env/lib/python3.12/site-packages/xgboost/training.py:183: UserWarning: [08:05:52] WARNING: /workspace/src/learner.cc:738: \n",
      "Parameters: { \"use_label_encoder\" } are not used.\n",
      "\n",
      "  bst.update(dtrain, iteration=i, fobj=obj)\n",
      "/workspaces/backtesting/my_env/lib/python3.12/site-packages/xgboost/training.py:183: UserWarning: [08:05:52] WARNING: /workspace/src/learner.cc:738: \n",
      "Parameters: { \"use_label_encoder\" } are not used.\n",
      "\n",
      "  bst.update(dtrain, iteration=i, fobj=obj)\n",
      "/workspaces/backtesting/my_env/lib/python3.12/site-packages/xgboost/training.py:183: UserWarning: [08:05:53] WARNING: /workspace/src/learner.cc:738: \n",
      "Parameters: { \"use_label_encoder\" } are not used.\n",
      "\n",
      "  bst.update(dtrain, iteration=i, fobj=obj)\n",
      "/workspaces/backtesting/my_env/lib/python3.12/site-packages/xgboost/training.py:183: UserWarning: [08:05:53] WARNING: /workspace/src/learner.cc:738: \n",
      "Parameters: { \"use_label_encoder\" } are not used.\n",
      "\n",
      "  bst.update(dtrain, iteration=i, fobj=obj)\n",
      "/workspaces/backtesting/my_env/lib/python3.12/site-packages/xgboost/training.py:183: UserWarning: [08:05:53] WARNING: /workspace/src/learner.cc:738: \n",
      "Parameters: { \"use_label_encoder\" } are not used.\n",
      "\n",
      "  bst.update(dtrain, iteration=i, fobj=obj)\n"
     ]
    },
    {
     "name": "stdout",
     "output_type": "stream",
     "text": [
      "📊 TSLA - Stacked Model Sharpe: -1.66, Cumulative Return: 7.65%\n"
     ]
    },
    {
     "name": "stderr",
     "output_type": "stream",
     "text": [
      "/workspaces/backtesting/my_env/lib/python3.12/site-packages/sklearn/linear_model/_logistic.py:1273: FutureWarning: 'multi_class' was deprecated in version 1.5 and will be removed in 1.7. Use OneVsRestClassifier(LogisticRegression(..)) instead. Leave it to its default value to avoid this warning.\n",
      "  warnings.warn(\n"
     ]
    }
   ],
   "source": [
    "strategy_returns = {}\n",
    "sharpe_scores = {} # Keep for potential individual model metrics, but main optimization is later\n",
    "cumulative_returns = {} # Keep for potential individual model metrics, but main optimization is later\n",
    "\n",
    "for ticker in chosen_tickers:\n",
    "    print(f\"\\n📥 Processing {ticker}...\")\n",
    "\n",
    "    try:\n",
    "        data = fetch_data(ticker)\n",
    "        data = add_features(data)\n",
    "\n",
    "        # Call the new function that returns multiple strategy series\n",
    "        strat_rf, strat_xgb, strat_svm, strat_stack = train_evaluate_all_models(data)\n",
    "\n",
    "        # Store the strategy series for each model type with unique keys\n",
    "        strategy_returns[f\"{ticker}_rf\"] = strat_rf\n",
    "        strategy_returns[f\"{ticker}_xgb\"] = strat_xgb\n",
    "        strategy_returns[f\"{ticker}_svm\"] = strat_svm\n",
    "        strategy_returns[f\"{ticker}_stack\"] = strat_stack\n",
    "\n",
    "        # Buy & Hold return series (baseline strategy)\n",
    "        buyhold_returns = data['return'].loc[strat_rf.index]  # align with strategy period (use any returned strat series index)\n",
    "        strategy_returns[f\"{ticker}_buyhold\"] = buyhold_returns\n",
    "\n",
    "        # RSI signal strategy\n",
    "        # Align original data with the test split before calculating RSI signal based returns\n",
    "        data_test_aligned = data.loc[strat_rf.index].copy()\n",
    "        data_test_aligned['rsi_signal'] = np.where(data_test_aligned['rsi'] < 30, 1, 0)\n",
    "        data_test_aligned['rsi_signal'] = np.where(data_test_aligned['rsi'] > 70, -1, data_test_aligned['rsi_signal'])\n",
    "        rsi_returns = data_test_aligned['rsi_signal'].shift(1).fillna(0) * data_test_aligned['return']\n",
    "        rsi_returns = rsi_returns.loc[strat_rf.index] # Re-align after shift if needed\n",
    "\n",
    "        strategy_returns[f\"{ticker}_rsi\"] = rsi_returns\n",
    "\n",
    "        # Calculate and print metrics for the stacked model for immediate feedback\n",
    "        stack_sharpe = sharpe_ratio(strat_stack)\n",
    "        stack_cumulative = (1 + strat_stack).cumprod().iloc[-1]\n",
    "        print(f\"📊 {ticker} - Stacked Model Sharpe: {stack_sharpe:.2f}, Cumulative Return: {stack_cumulative:.2%}\")\n",
    "\n",
    "    except Exception as e:\n",
    "        print(f\"❌ Error processing {ticker}: {e}\")"
   ]
  },
  {
   "cell_type": "code",
   "execution_count": 25,
   "id": "0ba35e78",
   "metadata": {},
   "outputs": [
    {
     "name": "stdout",
     "output_type": "stream",
     "text": [
      "⚖️ Optimization will use α = 0.10 → 10% Sharpe, 90% Return\n"
     ]
    }
   ],
   "source": [
    "# Ask user for weight between Sharpe and Return\n",
    "try:\n",
    "    alpha = float(input(\"Enter the weight for Sharpe Ratio (between 0 and 1): \"))\n",
    "    if not 0 <= alpha <= 1:\n",
    "        raise ValueError\n",
    "except:\n",
    "    print(\"Invalid input. Using default alpha = 0.5\")\n",
    "    alpha = 0.5\n",
    "\n",
    "print(f\"⚖️ Optimization will use α = {alpha:.2f} → {alpha:.0%} Sharpe, {(1-alpha):.0%} Return\")\n"
   ]
  },
  {
   "cell_type": "code",
   "execution_count": 26,
   "id": "cbac2735",
   "metadata": {},
   "outputs": [],
   "source": [
    "from scipy.optimize import minimize\n",
    "import numpy as np\n",
    "\n",
    "def annual_return(returns):\n",
    "    return (1 + returns).prod()**(252 / len(returns)) - 1\n",
    "\n",
    "def sharpe_ratio(returns, risk_free_rate=0.0):\n",
    "    excess = returns - risk_free_rate\n",
    "    return np.sqrt(252) * excess.mean() / excess.std()\n",
    "\n",
    "def combined_objective(weights, returns_matrix, alpha):\n",
    "    portfolio_returns = returns_matrix.dot(weights)\n",
    "    sharpe = sharpe_ratio(portfolio_returns)\n",
    "    cagr = annual_return(portfolio_returns)\n",
    "    return - (alpha * sharpe + (1 - alpha) * cagr)  # Negative to minimize\n",
    "\n",
    "def optimize_combined_strategy(returns_matrix, alpha):\n",
    "    n = returns_matrix.shape[1]\n",
    "    init_guess = np.ones(n) / n\n",
    "    bounds = [(0.0, 1.0)] * n\n",
    "    constraints = {'type': 'eq', 'fun': lambda w: np.sum(w) - 1}\n",
    "\n",
    "    result = minimize(combined_objective, init_guess,\n",
    "                      args=(returns_matrix, alpha),\n",
    "                      method='SLSQP',\n",
    "                      bounds=bounds,\n",
    "                      constraints=constraints)\n",
    "    return result.x, -result.fun  # weights, score\n"
   ]
  },
  {
   "cell_type": "code",
   "execution_count": 27,
   "id": "4fc71aeb",
   "metadata": {},
   "outputs": [
    {
     "name": "stdout",
     "output_type": "stream",
     "text": [
      "✅ Optimized Random Forest Portfolio — Final Value: 0.4796\n",
      "✅ Optimized XGBoost Portfolio — Final Value: 0.5887\n",
      "✅ Optimized SVM Portfolio — Final Value: 0.8872\n",
      "✅ Optimized RSI Portfolio — Final Value: 1.9033\n",
      "✅ Optimized Buy & Hold Portfolio — Final Value: 6.2017\n",
      "✅ Optimized Stacked Portfolio — Final Value: 1.8322\n"
     ]
    }
   ],
   "source": [
    "# Separate by strategy type\n",
    "rf_strategies = {k: v for k, v in strategy_returns.items() if '_rf' in k.lower()}\n",
    "xgb_strategies = {k: v for k, v in strategy_returns.items() if '_xgb' in k.lower()} # New\n",
    "svm_strategies = {k: v for k, v in strategy_returns.items() if '_svm' in k.lower()} # New\n",
    "rsi_strategies = {k: v for k, v in strategy_returns.items() if '_rsi' in k.lower()}\n",
    "buyhold_strategies = {k: v for k, v in strategy_returns.items() if '_buyhold' in k.lower()}\n",
    "stack_strategies = {k: v for k, v in strategy_returns.items() if '_stack' in k.lower()} # New\n",
    "\n",
    "strategy_sets = {\n",
    "    'Random Forest': rf_strategies,\n",
    "    'XGBoost': xgb_strategies, # New\n",
    "    'SVM': svm_strategies,     # New\n",
    "    'RSI': rsi_strategies,\n",
    "    'Buy & Hold': buyhold_strategies,\n",
    "    'Stacked': stack_strategies # New\n",
    "}\n",
    "\n",
    "optimized_weights = {}\n",
    "cumulative_returns = {}\n",
    "\n",
    "for name, strat_dict in strategy_sets.items():\n",
    "    returns_df = pd.concat(strat_dict.values(), axis=1).fillna(0)\n",
    "    weights, _ = optimize_combined_strategy(returns_df, alpha)\n",
    "    portfolio_returns = returns_df.dot(weights)\n",
    "    cumulative_returns[name] = (1 + portfolio_returns).cumprod()\n",
    "    optimized_weights[name] = weights\n",
    "    print(f\"✅ Optimized {name} Portfolio — Final Value: {cumulative_returns[name].iloc[-1]:.4f}\")\n"
   ]
  },
  {
   "cell_type": "code",
   "execution_count": 28,
   "id": "9d387ed6",
   "metadata": {},
   "outputs": [
    {
     "name": "stdout",
     "output_type": "stream",
     "text": [
      "✅ Estrategias clásicas actualizadas y archivo guardado en: /workspaces/backtesting/investment-portfolio-project/data/signal_data.csv\n"
     ]
    }
   ],
   "source": [
    "import pandas as pd\n",
    "import numpy as np\n",
    "from ta.momentum import RSIIndicator\n",
    "from ta.trend import MACD\n",
    "\n",
    "# Cargar los datos\n",
    "feature_data = pd.read_csv('/workspaces/backtesting/investment-portfolio-project/data/feature_data.csv', parse_dates=['date'])\n",
    "signal_data = pd.read_csv('/workspaces/backtesting/investment-portfolio-project/data/signal_data.csv', parse_dates=['date'])\n",
    "\n",
    "# Usar 'date' como índice en ambos\n",
    "feature_data.set_index('date', inplace=True)\n",
    "signal_data.set_index('date', inplace=True)\n",
    "\n",
    "# Calcular señales clásicas\n",
    "feature_data['SMA_10'] = feature_data['close'].rolling(window=10).mean()\n",
    "feature_data['SMA_50'] = feature_data['close'].rolling(window=50).mean()\n",
    "feature_data['y_pred_crossover'] = np.where(feature_data['SMA_10'] > feature_data['SMA_50'], 1, 0)\n",
    "\n",
    "feature_data['y_pred_rsi'] = np.where(feature_data['rsi'] < 30, 1, 0)\n",
    "feature_data['y_pred_rsi'] = np.where(feature_data['rsi'] > 70, 0, feature_data['y_pred_rsi'])\n",
    "\n",
    "# Seleccionar columnas de señal\n",
    "strategy_signals = feature_data[['y_pred_crossover', 'y_pred_rsi']]\n",
    "\n",
    "# Actualizar columnas en signal_data con las del nuevo cálculo\n",
    "signal_data.update(strategy_signals)\n",
    "\n",
    "# Guardar el resultado\n",
    "output_path = '/workspaces/backtesting/investment-portfolio-project/data/signal_data.csv'\n",
    "signal_data.to_csv(output_path)\n",
    "\n",
    "print(f\"✅ Estrategias clásicas actualizadas y archivo guardado en: {output_path}\")\n",
    "\n"
   ]
  },
  {
   "cell_type": "code",
   "execution_count": 31,
   "id": "9e55c0a7",
   "metadata": {},
   "outputs": [
    {
     "name": "stdout",
     "output_type": "stream",
     "text": [
      "\n",
      "💼 Optimized Portfolio Weights (Random Forest):\n",
      "AAPL_rf: 62.12%\n",
      "GOOG_rf: 0.00%\n",
      "AMZN_rf: 0.00%\n",
      "META_rf: 37.88%\n",
      "TSLA_rf: 0.00%\n"
     ]
    }
   ],
   "source": [
    "print(\"\\n💼 Optimized Portfolio Weights (Random Forest):\")\n",
    "for ticker, weight in zip(rf_strategies.keys(), weights):\n",
    "    print(f\"{ticker}: {weight:.2%}\")\n",
    "\n"
   ]
  },
  {
   "cell_type": "code",
   "execution_count": 32,
   "id": "049eb813",
   "metadata": {},
   "outputs": [
    {
     "name": "stdout",
     "output_type": "stream",
     "text": [
      "💾 Optimized weights saved to: /workspaces/backtesting/investment-portfolio-project/models/optimized_weights.pkl\n"
     ]
    }
   ],
   "source": [
    "import joblib\n",
    "\n",
    "weights_path = \"/workspaces/backtesting/investment-portfolio-project/models/optimized_weights.pkl\"\n",
    "joblib.dump(optimized_weights, weights_path)\n",
    "print(f\"💾 Optimized weights saved to: {weights_path}\")\n"
   ]
  },
  {
   "cell_type": "code",
   "execution_count": 33,
   "id": "749004c8",
   "metadata": {},
   "outputs": [
    {
     "data": {
      "image/png": "[encoded data removed]",
      "text/plain": [
       "<Figure size 1200x600 with 1 Axes>"
      ]
     },
     "metadata": {},
     "output_type": "display_data"
    }
   ],
   "source": [
    "cumulative_returns_plot = {} # Renamed to avoid conflict with `cumulative_returns` dict above\n",
    "\n",
    "# Iterate through optimized weights and calculate cumulative returns for plotting\n",
    "for name, weights in optimized_weights.items():\n",
    "    strat_dict = strategy_sets[name] # Get the corresponding strategy dictionary\n",
    "    \n",
    "    # Ensure strat_dict is not empty before concatenation\n",
    "    if strat_dict:\n",
    "        returns_df = pd.concat(strat_dict.values(), axis=1).fillna(0)\n",
    "        portfolio_returns = returns_df.dot(weights)\n",
    "        cumulative_returns_plot[name] = (1 + portfolio_returns).cumprod()\n",
    "    else:\n",
    "        print(f\"Warning: No strategies found for '{name}'. Skipping plotting for this set.\")\n",
    "\n",
    "# Plot all optimized portfolios\n",
    "if cumulative_returns_plot: # Check if there's anything to plot\n",
    "    pd.DataFrame(cumulative_returns_plot).plot(figsize=(12,6), title=\"Cumulative Returns: Optimized Portfolios (RF, XGBoost, SVM, Stacked, RSI, Buy & Hold)\")\n",
    "    plt.ylabel(\"Cumulative Return\")\n",
    "    plt.grid(True)\n",
    "    plt.show()\n",
    "else:\n",
    "    print(\"No cumulative returns to plot.\")"
   ]
  }
 ],
 "metadata": {
  "kernelspec": {
   "display_name": "my_env",
   "language": "python",
   "name": "python3"
  },
  "language_info": {
   "codemirror_mode": {
    "name": "ipython",
    "version": 3
   },
   "file_extension": ".py",
   "mimetype": "text/x-python",
   "name": "python",
   "nbconvert_exporter": "python",
   "pygments_lexer": "ipython3",
   "version": "3.12.1"
  }
 },
 "nbformat": 4,
 "nbformat_minor": 5
}
