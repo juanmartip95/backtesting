{
 "cells": [
  {
   "cell_type": "code",
   "execution_count": 1,
   "id": "e5d9f734",
   "metadata": {},
   "outputs": [],
   "source": [
    "import pandas as pd\n",
    "import numpy as np\n",
    "import matplotlib.pyplot as plt\n",
    "import seaborn as sns\n",
    "from alpha_vantage.timeseries import TimeSeries\n",
    "from sklearn.ensemble import RandomForestClassifier\n",
    "from sklearn.model_selection import train_test_split\n",
    "from sklearn.metrics import roc_auc_score\n",
    "from ta.momentum import RSIIndicator\n",
    "from ta.trend import MACD\n",
    "from dotenv import load_dotenv\n",
    "import os\n",
    "\n",
    "load_dotenv()\n",
    "API_KEY = os.getenv(\"ALPHA_VANTAGE_API_KEY\")\n"
   ]
  },
  {
   "cell_type": "code",
   "execution_count": 2,
   "id": "1cbd3767",
   "metadata": {},
   "outputs": [],
   "source": [
    "def fetch_data(symbol, api_key=API_KEY):\n",
    "    ts = TimeSeries(key=api_key, output_format='pandas')\n",
    "    data, _ = ts.get_daily(symbol=symbol, outputsize='full')\n",
    "    data = data.sort_index()\n",
    "    data = data.rename(columns={\n",
    "        '1. open': 'open',\n",
    "        '2. high': 'high',\n",
    "        '3. low': 'low',\n",
    "        '4. close': 'close',\n",
    "        '5. volume': 'volume'\n",
    "    })\n",
    "    return data\n"
   ]
  },
  {
   "cell_type": "code",
   "execution_count": null,
   "id": "477a5f1d",
   "metadata": {},
   "outputs": [],
   "source": [
    "# Apply indicators per ticker\n",
    "def add_features(df):\n",
    "    df['return'] = df['close'].pct_change()\n",
    "    df['rsi'] = RSIIndicator(df['close'], window=14).rsi()\n",
    "    macd = MACD(df['close'])\n",
    "    df['macd'] = macd.macd()\n",
    "    df['macd_signal'] = macd.macd_signal()\n",
    "    df['target'] = np.where(df['return'].shift(-1) > 0, 1, 0)\n",
    "    df.dropna(inplace=True)\n",
    "    return df\n"
   ]
  },
  {
   "cell_type": "code",
   "execution_count": null,
   "id": "e4d4aeb6",
   "metadata": {},
   "outputs": [],
   "source": [
    "# Train Random Forest model and calculate performance\n",
    "def train_evaluate(df):\n",
    "    features = ['rsi', 'macd', 'macd_signal']\n",
    "    X = df[features]\n",
    "    y = df['target']\n",
    "    X_train, X_test, y_train, y_test = train_test_split(X, y, shuffle=False, test_size=0.2)\n",
    "    \n",
    "    model = RandomForestClassifier(n_estimators=100)\n",
    "    model.fit(X_train, y_train)\n",
    "    y_pred = model.predict(X_test)\n",
    "    df = df.iloc[-len(y_pred):].copy()\n",
    "    df['pred'] = y_pred\n",
    "    df['strategy'] = np.where(df['pred'] == 1, df['return'], 0)\n",
    "    \n",
    "    sharpe = np.sqrt(252) * df['strategy'].mean() / df['strategy'].std()\n",
    "    cumulative = (1 + df['strategy']).cumprod().iloc[-1]\n",
    "    return sharpe, cumulative, df['strategy']\n"
   ]
  },
  {
   "cell_type": "code",
   "execution_count": 5,
   "id": "de3c2119",
   "metadata": {},
   "outputs": [],
   "source": [
    "# Suppose we already have strategy_returns = { 'AAPL': series1, 'MSFT': series2, ... }\n",
    "\n",
    "from scipy.optimize import minimize\n",
    "\n",
    "def optimize_portfolio(returns_dict):\n",
    "    returns_df = pd.DataFrame(returns_dict)\n",
    "    weights = np.ones(len(returns_df.columns)) / len(returns_df.columns)\n",
    "\n",
    "    def neg_sharpe(w):\n",
    "        port_return = (returns_df * w).sum(axis=1)\n",
    "        return -np.sqrt(252) * port_return.mean() / port_return.std()\n",
    "\n",
    "    constraints = ({'type': 'eq', 'fun': lambda w: np.sum(w) - 1})\n",
    "    bounds = [(0, 1)] * len(weights)\n",
    "\n",
    "    result = minimize(neg_sharpe, weights, bounds=bounds, constraints=constraints)\n",
    "    return result.x, -result.fun\n"
   ]
  },
  {
   "cell_type": "code",
   "execution_count": 6,
   "id": "4bc449ea",
   "metadata": {},
   "outputs": [
    {
     "name": "stdout",
     "output_type": "stream",
     "text": [
      "🔢 Example Tickers:\n",
      "1. AAPL\n",
      "2. MSFT\n",
      "3. GOOG\n",
      "4. AMZN\n",
      "5. META\n",
      "6. TSLA\n",
      "7. NFLX\n",
      "8. NVDA\n",
      "9. JPM\n",
      "10. BA\n",
      "\n",
      "✅ You selected: ['AAPL', 'MSFT', 'GOOG', 'AMZN', 'META']\n"
     ]
    }
   ],
   "source": [
    "example_tickers = ['AAPL', 'MSFT', 'GOOG', 'AMZN', 'META', 'TSLA', 'NFLX', 'NVDA', 'JPM', 'BA']\n",
    "\n",
    "print(\"🔢 Example Tickers:\")\n",
    "for i, ticker in enumerate(example_tickers):\n",
    "    print(f\"{i+1}. {ticker}\")\n",
    "\n",
    "chosen_indices = input(\"Please choose 5 ticker indices (comma-separated, e.g. 1,3,5,7,9): \")\n",
    "chosen_tickers = [example_tickers[int(i)-1] for i in chosen_indices.split(',')]\n",
    "\n",
    "print(f\"\\n✅ You selected: {chosen_tickers}\")\n"
   ]
  },
  {
   "cell_type": "code",
   "execution_count": 8,
   "id": "f931a713",
   "metadata": {},
   "outputs": [
    {
     "name": "stdout",
     "output_type": "stream",
     "text": [
      "💾 Selected tickers saved to /workspaces/backtesting/investment-portfolio-project/data/selected_tickers.json\n"
     ]
    }
   ],
   "source": [
    "import json\n",
    "\n",
    "\n",
    "\n",
    "# ✅ Save to file for reuse\n",
    "ticker_save_path = \"/workspaces/backtesting/investment-portfolio-project/data/selected_tickers.json\"\n",
    "with open(ticker_save_path, 'w') as f:\n",
    "    json.dump(chosen_tickers, f)\n",
    "\n",
    "print(f\"💾 Selected tickers saved to {ticker_save_path}\")\n"
   ]
  },
  {
   "cell_type": "code",
   "execution_count": 9,
   "id": "f2f232a6",
   "metadata": {},
   "outputs": [
    {
     "name": "stdout",
     "output_type": "stream",
     "text": [
      "📂 Using previously saved tickers: ['AAPL', 'MSFT', 'GOOG', 'AMZN', 'META']\n"
     ]
    }
   ],
   "source": [
    "# Load saved tickers\n",
    "with open(\"/workspaces/backtesting/investment-portfolio-project/data/selected_tickers.json\", 'r') as f:\n",
    "    chosen_tickers = json.load(f)\n",
    "\n",
    "print(\"📂 Using previously saved tickers:\", chosen_tickers)\n"
   ]
  },
  {
   "cell_type": "code",
   "execution_count": 10,
   "id": "97808d39",
   "metadata": {},
   "outputs": [
    {
     "name": "stdout",
     "output_type": "stream",
     "text": [
      "\n",
      "📥 Processing AAPL...\n",
      "📊 AAPL - Sharpe: -0.09, Cumulative Return: 40.29%\n",
      "\n",
      "📥 Processing MSFT...\n",
      "📊 MSFT - Sharpe: 0.13, Cumulative Return: 103.33%\n",
      "\n",
      "📥 Processing GOOG...\n",
      "📊 GOOG - Sharpe: -0.09, Cumulative Return: 90.99%\n",
      "\n",
      "📥 Processing AMZN...\n",
      "📊 AMZN - Sharpe: -0.68, Cumulative Return: 1.92%\n",
      "\n",
      "📥 Processing META...\n",
      "📊 META - Sharpe: 1.07, Cumulative Return: 174.93%\n"
     ]
    }
   ],
   "source": [
    "strategy_returns = {}\n",
    "sharpe_scores = {}\n",
    "cumulative_returns = {}\n",
    "\n",
    "for ticker in chosen_tickers:\n",
    "    print(f\"\\n📥 Processing {ticker}...\")\n",
    "    \n",
    "    try:\n",
    "        data = fetch_data(ticker)\n",
    "        data = add_features(data)\n",
    "\n",
    "        sharpe, cumulative, strat_series = train_evaluate(data)\n",
    "        \n",
    "        strategy_returns[ticker] = strat_series\n",
    "        sharpe_scores[ticker] = sharpe\n",
    "        cumulative_returns[ticker] = cumulative\n",
    "        # Buy & Hold return series (baseline strategy)\n",
    "        buyhold_returns = data['return'].loc[strat_series.index]  # align with strategy period\n",
    "        strategy_returns[f\"{ticker}_buyhold\"] = buyhold_returns\n",
    "        # RSI signal strategy\n",
    "        data['rsi_signal'] = np.where(data['rsi'] < 30, 1, 0)\n",
    "        data['rsi_signal'] = np.where(data['rsi'] > 70, -1, data['rsi_signal'])\n",
    "\n",
    "        # RSI strategy returns\n",
    "        rsi_returns = data['rsi_signal'].shift(1) * data['return']\n",
    "        rsi_returns = rsi_returns.loc[strat_series.index]  # align dates\n",
    "\n",
    "        strategy_returns[f\"{ticker}_rsi\"] = rsi_returns\n",
    "\n",
    "\n",
    "\n",
    "        print(f\"📊 {ticker} - Sharpe: {sharpe:.2f}, Cumulative Return: {cumulative:.2%}\")\n",
    "    \n",
    "    except Exception as e:\n",
    "        print(f\"❌ Error processing {ticker}: {e}\")\n"
   ]
  },
  {
   "cell_type": "code",
   "execution_count": 11,
   "id": "0ba35e78",
   "metadata": {},
   "outputs": [
    {
     "name": "stdout",
     "output_type": "stream",
     "text": [
      "⚖️ Optimization will use α = 0.50 → 50% Sharpe, 50% Return\n"
     ]
    }
   ],
   "source": [
    "# Ask user for weight between Sharpe and Return\n",
    "try:\n",
    "    alpha = float(input(\"Enter the weight for Sharpe Ratio (between 0 and 1): \"))\n",
    "    if not 0 <= alpha <= 1:\n",
    "        raise ValueError\n",
    "except:\n",
    "    print(\"Invalid input. Using default alpha = 0.5\")\n",
    "    alpha = 0.5\n",
    "\n",
    "print(f\"⚖️ Optimization will use α = {alpha:.2f} → {alpha:.0%} Sharpe, {(1-alpha):.0%} Return\")\n"
   ]
  },
  {
   "cell_type": "code",
   "execution_count": 12,
   "id": "cbac2735",
   "metadata": {},
   "outputs": [],
   "source": [
    "from scipy.optimize import minimize\n",
    "import numpy as np\n",
    "\n",
    "def annual_return(returns):\n",
    "    return (1 + returns).prod()**(252 / len(returns)) - 1\n",
    "\n",
    "def sharpe_ratio(returns, risk_free_rate=0.0):\n",
    "    excess = returns - risk_free_rate\n",
    "    return np.sqrt(252) * excess.mean() / excess.std()\n",
    "\n",
    "def combined_objective(weights, returns_matrix, alpha):\n",
    "    portfolio_returns = returns_matrix.dot(weights)\n",
    "    sharpe = sharpe_ratio(portfolio_returns)\n",
    "    cagr = annual_return(portfolio_returns)\n",
    "    return - (alpha * sharpe + (1 - alpha) * cagr)  # Negative to minimize\n",
    "\n",
    "def optimize_combined_strategy(returns_matrix, alpha):\n",
    "    n = returns_matrix.shape[1]\n",
    "    init_guess = np.ones(n) / n\n",
    "    bounds = [(0.0, 1.0)] * n\n",
    "    constraints = {'type': 'eq', 'fun': lambda w: np.sum(w) - 1}\n",
    "\n",
    "    result = minimize(combined_objective, init_guess,\n",
    "                      args=(returns_matrix, alpha),\n",
    "                      method='SLSQP',\n",
    "                      bounds=bounds,\n",
    "                      constraints=constraints)\n",
    "    return result.x, -result.fun  # weights, score\n"
   ]
  },
  {
   "cell_type": "code",
   "execution_count": 14,
   "id": "4fc71aeb",
   "metadata": {},
   "outputs": [
    {
     "name": "stdout",
     "output_type": "stream",
     "text": [
      "✅ Optimized Random Forest Portfolio — Final Value: 1.7493\n",
      "✅ Optimized RSI Portfolio — Final Value: 1.5377\n",
      "✅ Optimized Buy & Hold Portfolio — Final Value: 7.8072\n"
     ]
    }
   ],
   "source": [
    "# Separate by strategy type\n",
    "rf_strategies = {k: v for k, v in strategy_returns.items() if not any(x in k.lower() for x in ['rsi', 'buyhold'])}\n",
    "rsi_strategies = {k: v for k, v in strategy_returns.items() if 'rsi' in k.lower()}\n",
    "buyhold_strategies = {k: v for k, v in strategy_returns.items() if 'buyhold' in k.lower()}\n",
    "\n",
    "strategy_sets = {\n",
    "    'Random Forest': rf_strategies,\n",
    "    'RSI': rsi_strategies,\n",
    "    'Buy & Hold': buyhold_strategies\n",
    "}\n",
    "\n",
    "optimized_weights = {}\n",
    "cumulative_returns = {}\n",
    "\n",
    "for name, strat_dict in strategy_sets.items():\n",
    "    returns_df = pd.concat(strat_dict.values(), axis=1).fillna(0)\n",
    "    weights, _ = optimize_combined_strategy(returns_df, alpha)\n",
    "    portfolio_returns = returns_df.dot(weights)\n",
    "    cumulative_returns[name] = (1 + portfolio_returns).cumprod()\n",
    "    optimized_weights[name] = weights\n",
    "    print(f\"✅ Optimized {name} Portfolio — Final Value: {cumulative_returns[name].iloc[-1]:.4f}\")\n"
   ]
  },
  {
   "cell_type": "code",
   "execution_count": 20,
   "id": "9d387ed6",
   "metadata": {},
   "outputs": [
    {
     "name": "stdout",
     "output_type": "stream",
     "text": [
      "✅ Estrategias clásicas actualizadas y archivo guardado en: /workspaces/backtesting/investment-portfolio-project/data/signal_data.csv\n"
     ]
    }
   ],
   "source": [
    "import pandas as pd\n",
    "import numpy as np\n",
    "from ta.momentum import RSIIndicator\n",
    "from ta.trend import MACD\n",
    "\n",
    "# Cargar los datos\n",
    "feature_data = pd.read_csv('/workspaces/backtesting/investment-portfolio-project/data/data_features.csv', parse_dates=['date'])\n",
    "signal_data = pd.read_csv('/workspaces/backtesting/investment-portfolio-project/data/signal_data.csv', parse_dates=['date'])\n",
    "\n",
    "# Usar 'date' como índice en ambos\n",
    "feature_data.set_index('date', inplace=True)\n",
    "signal_data.set_index('date', inplace=True)\n",
    "\n",
    "# Calcular señales clásicas\n",
    "feature_data['SMA_10'] = feature_data['close'].rolling(window=10).mean()\n",
    "feature_data['SMA_50'] = feature_data['close'].rolling(window=50).mean()\n",
    "feature_data['y_pred_crossover'] = np.where(feature_data['SMA_10'] > feature_data['SMA_50'], 1, 0)\n",
    "\n",
    "feature_data['y_pred_rsi'] = np.where(feature_data['rsi'] < 30, 1, 0)\n",
    "feature_data['y_pred_rsi'] = np.where(feature_data['rsi'] > 70, 0, feature_data['y_pred_rsi'])\n",
    "\n",
    "# Seleccionar columnas de señal\n",
    "strategy_signals = feature_data[['y_pred_crossover', 'y_pred_rsi']]\n",
    "\n",
    "# Actualizar columnas en signal_data con las del nuevo cálculo\n",
    "signal_data.update(strategy_signals)\n",
    "\n",
    "# Guardar el resultado\n",
    "output_path = '/workspaces/backtesting/investment-portfolio-project/data/signal_data.csv'\n",
    "signal_data.to_csv(output_path)\n",
    "\n",
    "print(f\"✅ Estrategias clásicas actualizadas y archivo guardado en: {output_path}\")\n",
    "\n"
   ]
  },
  {
   "cell_type": "code",
   "execution_count": 22,
   "id": "9e55c0a7",
   "metadata": {},
   "outputs": [
    {
     "name": "stdout",
     "output_type": "stream",
     "text": [
      "\n",
      "💼 Optimized Portfolio Weights (Random Forest):\n",
      "AAPL: 0.00%\n",
      "MSFT: 0.00%\n",
      "GOOG: 0.00%\n",
      "AMZN: 0.00%\n",
      "META: 100.00%\n",
      "\n",
      "🚀 Optimized Portfolio Sharpe Ratio (RF): 1.07\n"
     ]
    }
   ],
   "source": [
    "print(\"\\n💼 Optimized Portfolio Weights (Random Forest):\")\n",
    "for ticker, weight in zip(rf_strategies.keys(), weights):\n",
    "    print(f\"{ticker}: {weight:.2%}\")\n",
    "print(f\"\\n🚀 Optimized Portfolio Sharpe Ratio (RF): {sharpe:.2f}\")\n"
   ]
  },
  {
   "cell_type": "code",
   "execution_count": 23,
   "id": "049eb813",
   "metadata": {},
   "outputs": [
    {
     "name": "stdout",
     "output_type": "stream",
     "text": [
      "💾 Optimized weights saved to: /workspaces/backtesting/investment-portfolio-project/models/optimized_weights.pkl\n"
     ]
    }
   ],
   "source": [
    "import joblib\n",
    "\n",
    "weights_path = \"/workspaces/backtesting/investment-portfolio-project/models/optimized_weights.pkl\"\n",
    "joblib.dump(optimized_weights, weights_path)\n",
    "print(f\"💾 Optimized weights saved to: {weights_path}\")\n"
   ]
  },
  {
   "cell_type": "code",
   "execution_count": 24,
   "id": "749004c8",
   "metadata": {},
   "outputs": [
    {
     "ename": "NameError",
     "evalue": "name 'portfolios' is not defined",
     "output_type": "error",
     "traceback": [
      "\u001b[31m---------------------------------------------------------------------------\u001b[39m",
      "\u001b[31mNameError\u001b[39m                                 Traceback (most recent call last)",
      "\u001b[36mCell\u001b[39m\u001b[36m \u001b[39m\u001b[32mIn[24]\u001b[39m\u001b[32m, line 2\u001b[39m\n\u001b[32m      1\u001b[39m cumulative_returns = {}\n\u001b[32m----> \u001b[39m\u001b[32m2\u001b[39m \u001b[38;5;28;01mfor\u001b[39;00m label, (weights, strategy_dict) \u001b[38;5;129;01min\u001b[39;00m \u001b[43mportfolios\u001b[49m.items():\n\u001b[32m      3\u001b[39m     matrix = pd.concat(strategy_dict.values(), axis=\u001b[32m1\u001b[39m).fillna(\u001b[32m0\u001b[39m)\n\u001b[32m      4\u001b[39m     weighted_returns = matrix.dot(weights)\n",
      "\u001b[31mNameError\u001b[39m: name 'portfolios' is not defined"
     ]
    }
   ],
   "source": [
    "cumulative_returns = {}\n",
    "for label, (weights, strategy_dict) in portfolios.items():\n",
    "    matrix = pd.concat(strategy_dict.values(), axis=1).fillna(0)\n",
    "    weighted_returns = matrix.dot(weights)\n",
    "    cumulative_returns[label] = (1 + weighted_returns).cumprod()\n",
    "pd.DataFrame(cumulative_returns).plot(figsize=(12,6), title=\"Cumulative Returns: RF vs RSI vs Buy & Hold\")\n",
    "plt.ylabel(\"Cumulative Return\")\n",
    "plt.grid(True)\n",
    "plt.show()\n"
   ]
  }
 ],
 "metadata": {
  "kernelspec": {
   "display_name": "my_env",
   "language": "python",
   "name": "python3"
  },
  "language_info": {
   "codemirror_mode": {
    "name": "ipython",
    "version": 3
   },
   "file_extension": ".py",
   "mimetype": "text/x-python",
   "name": "python",
   "nbconvert_exporter": "python",
   "pygments_lexer": "ipython3",
   "version": "3.12.1"
  }
 },
 "nbformat": 4,
 "nbformat_minor": 5
}
