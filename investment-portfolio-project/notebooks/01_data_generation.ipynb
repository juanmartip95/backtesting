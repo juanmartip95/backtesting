{
 "cells": [
  {
   "cell_type": "code",
   "execution_count": 2,
   "id": "efdf04ba",
   "metadata": {},
   "outputs": [
    {
     "name": "stdout",
     "output_type": "stream",
     "text": [
      "Covariance DataFrame:\n",
      "          A         B         C\n",
      "A  0.000100 -0.000017 -0.000027\n",
      "B -0.000017  0.000180 -0.000012\n",
      "C -0.000027 -0.000012  0.000095\n",
      "\n",
      "Covariance Matrix Values:\n",
      "[[ 1.00317168e-04 -1.74895666e-05 -2.70971276e-05]\n",
      " [-1.74895666e-05  1.80028470e-04 -1.19734770e-05]\n",
      " [-2.70971276e-05 -1.19734770e-05  9.53099026e-05]]\n"
     ]
    }
   ],
   "source": [
    "import pandas as pd\n",
    "import numpy as np\n",
    "\n",
    "# Set a random seed for reproducibility\n",
    "np.random.seed(42)\n",
    "\n",
    "# Create a date range\n",
    "date_range = pd.date_range(start='2023-01-01', end='2023-01-21', freq='D')\n",
    "\n",
    "# Generate random returns for three assets 'A', 'B', and 'C'\n",
    "returns_data = {\n",
    "    'A': np.random.normal(0.001, 0.01, len(date_range)),\n",
    "    'B': np.random.normal(0.0005, 0.015, len(date_range)),\n",
    "    'C': np.random.normal(0.0015, 0.012, len(date_range))\n",
    "}\n",
    "\n",
    "# Create the returns DataFrame\n",
    "returns_df = pd.DataFrame(returns_data, index=date_range)\n",
    "\n",
    "# Compute the covariance matrix\n",
    "cov_matrix = returns_df.cov()\n",
    "\n",
    "# Print the covariance DataFrame\n",
    "print(\"Covariance DataFrame:\")\n",
    "print(cov_matrix)\n",
    "\n",
    "# Print the covariance matrix values as a numpy array\n",
    "print(\"\\nCovariance Matrix Values:\")\n",
    "print(cov_matrix.values)"
   ]
  },
  {
   "cell_type": "code",
   "execution_count": 4,
   "id": "9ad6e15e",
   "metadata": {},
   "outputs": [],
   "source": [
    "returns_df.to_csv('/workspaces/backtesting/investment-portfolio-project/data/synthetic_portfolio.csv')\n"
   ]
  }
 ],
 "metadata": {
  "kernelspec": {
   "display_name": "my_env",
   "language": "python",
   "name": "python3"
  },
  "language_info": {
   "codemirror_mode": {
    "name": "ipython",
    "version": 3
   },
   "file_extension": ".py",
   "mimetype": "text/x-python",
   "name": "python",
   "nbconvert_exporter": "python",
   "pygments_lexer": "ipython3",
   "version": "3.12.1"
  }
 },
 "nbformat": 4,
 "nbformat_minor": 5
}
