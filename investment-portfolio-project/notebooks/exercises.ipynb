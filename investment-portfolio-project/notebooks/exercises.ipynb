{
 "cells": [
  {
   "cell_type": "code",
   "execution_count": 8,
   "id": "d577cfbe",
   "metadata": {},
   "outputs": [],
   "source": [
    "\"\"\"\n",
    "Data Structures Practice Exercises\n",
    "Complete these exercises to build fluency with Python data structures\n",
    "\"\"\"\n",
    "\n",
    "from collections import defaultdict, Counter, deque\n",
    "import string"
   ]
  },
  {
   "cell_type": "code",
   "execution_count": 9,
   "id": "76c18046",
   "metadata": {},
   "outputs": [
    {
     "data": {
      "text/plain": [
       "[1, 4]"
      ]
     },
     "execution_count": 9,
     "metadata": {},
     "output_type": "execute_result"
    }
   ],
   "source": [
    "\n",
    "def process_numbers(nums):\n",
    "        # YOUR CODE HERE\n",
    "    result = []\n",
    "    for n in nums:\n",
    "        if n % 2 == 0:\n",
    "            result.append(2*n)\n",
    "        else:\n",
    "            result.append(n)\n",
    "    return result\n",
    "\n",
    "process_numbers((1,2))"
   ]
  },
  {
   "cell_type": "code",
   "execution_count": 10,
   "id": "35e6834e",
   "metadata": {},
   "outputs": [
    {
     "data": {
      "text/plain": [
       "({'alice': 80, 'bob': -110, 'charlie': 200}, ['bob'])"
      ]
     },
     "execution_count": 10,
     "metadata": {},
     "output_type": "execute_result"
    }
   ],
   "source": [
    "def analyze_transactions(transactions):\n",
    "        # YOUR CODE HERE\n",
    "        user_totals = defaultdict(int)\n",
    "        for user, amount in transactions:\n",
    "            user_totals[user] += amount\n",
    "        \n",
    "        negative_users = [user for user, total in user_totals.items() if total < 0]\n",
    "        \n",
    "        return dict(user_totals), negative_users\n",
    "\n",
    "            \n",
    "analyze_transactions(transactions = [\n",
    "        ('alice', 100), ('bob', -50), ('alice', -30), \n",
    "        ('charlie', 200), ('bob', -60), ('alice', 10)\n",
    "    ])"
   ]
  },
  {
   "cell_type": "code",
   "execution_count": 11,
   "id": "0b593239",
   "metadata": {},
   "outputs": [
    {
     "name": "stdout",
     "output_type": "stream",
     "text": [
      "'hello world programming' -> {'most_frequent_char': 'l', 'longest_word': 'programming', 'vowel_count': 6}\n",
      "'The quick brown fox jumps over the lazy dog' -> {'most_frequent_char': 'o', 'longest_word': 'quick', 'vowel_count': 11}\n",
      "'Python is awesome for data manipulation' -> {'most_frequent_char': 'a', 'longest_word': 'manipulation', 'vowel_count': 15}\n"
     ]
    }
   ],
   "source": [
    "def analyze_string(text):\n",
    "        # YOUR CODE HERE\n",
    "        # Most frequent character (excluding spaces)\n",
    "        char_count = Counter(char.lower() for char in text if char != ' ')\n",
    "        most_frequent = char_count.most_common(1)[0][0] if char_count else ''\n",
    "        \n",
    "        # Longest word\n",
    "        words = text.split()\n",
    "        longest_word = max(words, key=len) if words else ''\n",
    "        \n",
    "        # Vowel count\n",
    "        vowels = set('aeiouAEIOU')\n",
    "        vowel_count = sum(1 for char in text if char in vowels)\n",
    "        \n",
    "        return {\n",
    "            'most_frequent_char': most_frequent,\n",
    "            'longest_word': longest_word,\n",
    "            'vowel_count': vowel_count\n",
    "        }\n",
    "    \n",
    "    # Test cases\n",
    "test_strings = [\"hello world programming\", \"The quick brown fox jumps over the lazy dog\", \"Python is awesome for data manipulation\"]\n",
    "    \n",
    "for text in test_strings:\n",
    "     result = analyze_string(text)\n",
    "     print(f\"'{text}' -> {result}\")"
   ]
  },
  {
   "cell_type": "code",
   "execution_count": 1,
   "id": "fdb12d16",
   "metadata": {},
   "outputs": [],
   "source": [
    "#Pattern 1: Array/List Manipulation\n",
    "#Question: \"Find all pairs in an array that sum to a target value.\"\n",
    "\n",
    "def two_sum(nums, target):\n",
    "    seen = {}\n",
    "    for i, num in enumerate(nums):\n",
    "        complement = target - num\n",
    "        if complement in seen:\n",
    "            return [seen[complement], i]\n",
    "        seen[num] = i\n",
    "    return []"
   ]
  },
  {
   "cell_type": "code",
   "execution_count": null,
   "id": "a2e9e80c",
   "metadata": {},
   "outputs": [],
   "source": [
    "#Pattern 2: String Processing\n",
    "#Question: \"Check if two strings are anagrams\n",
    "def is_anagram(s1, s2):\n",
    "    return Counter(s1) == Counter(s2)\n",
    "    # Alternative: return sorted(s1) == sorted(s2)"
   ]
  },
  {
   "cell_type": "code",
   "execution_count": null,
   "id": "238d78ef",
   "metadata": {},
   "outputs": [],
   "source": [
    "#Pattern 3: Hash Table Grouping\n",
    "#Question: \"Group words by their length.\"\n",
    "def group_by_length(words):\n",
    "    groups = defaultdict(list)\n",
    "    for word in words:\n",
    "        groups[len(word)].append(word)\n",
    "    return dict(groups)"
   ]
  },
  {
   "cell_type": "code",
   "execution_count": null,
   "id": "35155c02",
   "metadata": {},
   "outputs": [],
   "source": [
    "import pandas as pd\n",
    "\n",
    "def analyze_sentiment_data(csv_path):\n",
    "    # Read the CSV file\n",
    "    data = pd.read_csv(csv_path)\n",
    "\n",
    "    # Extract the 'name' and 'sentiment' columns\n",
    "    name_sentiment_data = data[['name', 'sentiment']]\n",
    "\n",
    "    # Group by 'name' and calculate the average sentiment and count of appearances\n",
    "    grouped_data = name_sentiment_data.groupby('name').agg(\n",
    "        average_sentiment=('sentiment', 'mean'),\n",
    "        appearances=('sentiment', 'count')\n",
    "    ).reset_index()\n",
    "\n",
    "    # Find the name with the most appearances\n",
    "    most_appearances = grouped_data.loc[grouped_data['appearances'].idxmax()]\n",
    "\n",
    "    # Find the name with the lowest average sentiment\n",
    "    lowest_avg_sentiment = grouped_data.loc[grouped_data['average_sentiment'].idxmin()]\n",
    "\n",
    "    return {\n",
    "        'average_sentiments': dict(zip(grouped_data['name'], grouped_data['average_sentiment'])),\n",
    "        'most_appearances': most_appearances['name'],\n",
    "        'lowest_avg_sentiment': (lowest_avg_sentiment['name'], lowest_avg_sentiment['average_sentiment'])\n",
    "    }\n",
    "\n",
    "# Example usage\n",
    "# result = analyze_sentiment_data('path_to_your_csv_file.csv')\n",
    "# print(result)\n"
   ]
  },
  {
   "cell_type": "code",
   "execution_count": null,
   "id": "6f37550c",
   "metadata": {},
   "outputs": [],
   "source": [
    "#Given a CSV of daily stock prices, calculate the 7-day moving average for each stock.\n",
    "def calculate_moving_average(prices_dict, window=7):\n",
    "    result = {}\n",
    "    for stock, prices in prices_dict.items():\n",
    "        if len(prices) < window:\n",
    "            result[stock] = []\n",
    "            continue\n",
    "        moving_avg = []\n",
    "        for i in range(window-1, len(prices)):\n",
    "            avg = sum(prices[i-window+1:i+1]) / window\n",
    "            moving_avg.append(avg)\n",
    "        result[stock] = moving_avg\n",
    "    return result"
   ]
  },
  {
   "cell_type": "code",
   "execution_count": null,
   "id": "8bfb4ef8",
   "metadata": {},
   "outputs": [],
   "source": [
    "#Given a dictionary of portfolio weights, validate that they sum to 1.0 and no weight exceeds 50%.\n",
    "def validate_portfolio(weights):\n",
    "    total = sum(weights.values())\n",
    "    max_weight = max(weights.values())\n",
    "    \n",
    "    errors = []\n",
    "    if abs(total - 1.0) > 1e-6:\n",
    "        errors.append(f\"Weights sum to {total:.6f}, not 1.0\")\n",
    "    if max_weight > 0.5:\n",
    "        errors.append(f\"Maximum weight {max_weight:.3f} exceeds 50%\")\n",
    "    \n",
    "    return len(errors) == 0, errors"
   ]
  },
  {
   "cell_type": "code",
   "execution_count": null,
   "id": "91b97831",
   "metadata": {},
   "outputs": [],
   "source": [
    "#Given a list of news articles with sentiment scores, group by date and calculate daily average sentiment.\n",
    "def aggregate_sentiment(articles):\n",
    "    # articles = [{'date': '2024-01-01', 'sentiment': 0.8}, ...]\n",
    "    daily_sentiment = defaultdict(list)\n",
    "    \n",
    "    for article in articles:\n",
    "        daily_sentiment[article['date']].append(article['sentiment'])\n",
    "    \n",
    "    return {\n",
    "        date: sum(scores) / len(scores) \n",
    "        for date, scores in daily_sentiment.items()\n",
    "    }"
   ]
  }
 ],
 "metadata": {
  "kernelspec": {
   "display_name": "my_env",
   "language": "python",
   "name": "python3"
  },
  "language_info": {
   "codemirror_mode": {
    "name": "ipython",
    "version": 3
   },
   "file_extension": ".py",
   "mimetype": "text/x-python",
   "name": "python",
   "nbconvert_exporter": "python",
   "pygments_lexer": "ipython3",
   "version": "3.12.1"
  }
 },
 "nbformat": 4,
 "nbformat_minor": 5
}
